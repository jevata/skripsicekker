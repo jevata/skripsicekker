{
 "cells": [
  {
   "cell_type": "code",
   "execution_count": 1,
   "metadata": {},
   "outputs": [],
   "source": [
    "import numpy as np #numpy dipake kalau di program ada kebutuhan array\n",
    "import pandas as pd #pandas dipake kalau di program ada kebutuhan nampilin data frame\n",
    "import nltk #natural language toolkit dipakai kalau diprogram ada kebutuhan manipulasi atau edit kata-kata\n",
    "import sklearn #scikit learn dipakai kalau mau melakukan ml di program\n",
    "import joblib #library buat nyimpen model ml buat dipakai nanti \n",
    "from matplotlib import pyplot #kalau di program mau membuat tampilan kayak MATLAB dengan x dan y\n",
    "import matplotlib.pyplot as plt\n",
    "from nltk.corpus import stopwords #untuk mendapatkan list stopwords yang terdaftar pada library nltk.corpus\n",
    "from sklearn.feature_extraction.text import TfidfVectorizer #tf-idf vectorizer ini dipakai untuk merubah kata pada data menjadi numerik agar bisa dibaca komputer\n",
    "from sklearn import metrics #modul yang menilai prediksi error, intinya kalau mau make ml di program setidaknya pakai metrics, disini prediksi errornya pakai roc auc\n",
    "from sklearn.metrics import roc_curve, roc_auc_score\n",
    "import joblib as jb\n",
    "from sklearn.model_selection import StratifiedKFold, cross_val_score, train_test_split \n",
    "from sklearn import linear_model\n",
    "from sklearn.naive_bayes import MultinomialNB\n",
    "from sklearn.neural_network import MLPClassifier\n",
    "from sklearn.datasets import make_classification\n",
    "from sklearn.linear_model import LogisticRegression\n",
    "from sklearn.model_selection import train_test_split\n",
    "from sklearn.preprocessing import LabelEncoder #buat encode label yang dpilih jadi nilai int\n",
    "from sklearn.ensemble import RandomForestClassifier"
   ]
  },
  {
   "cell_type": "code",
   "execution_count": 2,
   "metadata": {},
   "outputs": [],
   "source": [
    "data = pd.read_excel('data_training.xlsx')"
   ]
  },
  {
   "cell_type": "code",
   "execution_count": 3,
   "metadata": {},
   "outputs": [
    {
     "data": {
      "text/html": [
       "<div>\n",
       "<style scoped>\n",
       "    .dataframe tbody tr th:only-of-type {\n",
       "        vertical-align: middle;\n",
       "    }\n",
       "\n",
       "    .dataframe tbody tr th {\n",
       "        vertical-align: top;\n",
       "    }\n",
       "\n",
       "    .dataframe thead th {\n",
       "        text-align: right;\n",
       "    }\n",
       "</style>\n",
       "<table border=\"1\" class=\"dataframe\">\n",
       "  <thead>\n",
       "    <tr style=\"text-align: right;\">\n",
       "      <th></th>\n",
       "      <th>Nama</th>\n",
       "      <th>Judul</th>\n",
       "      <th>Subject</th>\n",
       "    </tr>\n",
       "  </thead>\n",
       "  <tbody>\n",
       "    <tr>\n",
       "      <th>0</th>\n",
       "      <td>AGUSTIN MAULIYA SAFITRI  , 1417021005</td>\n",
       "      <td>STUDI PENINGKATAN IMUNOSTIMULAN DARI KOMBINASI...</td>\n",
       "      <td>Q SCIENCE</td>\n",
       "    </tr>\n",
       "    <tr>\n",
       "      <th>1</th>\n",
       "      <td>SAIFUL ANWAR  , 1417051129</td>\n",
       "      <td>PENERAPAN DJANGO REST FRAMEWORK DAN TEKNOLOGI_...</td>\n",
       "      <td>Q SCIENCE</td>\n",
       "    </tr>\n",
       "    <tr>\n",
       "      <th>2</th>\n",
       "      <td>AFRISA HERNI  PUTRI  , (1217021002)</td>\n",
       "      <td>UJI EFEKTIVITAS EKSTRAK RIMPANG RUMPUT TEKI (C...</td>\n",
       "      <td>Q SCIENCE</td>\n",
       "    </tr>\n",
       "    <tr>\n",
       "      <th>3</th>\n",
       "      <td>AGNES MALUDFI PUTRI,  1217031004</td>\n",
       "      <td>ANALISIS TEORI ANTRIAN MULTI-CHANNEL DENGAN DI...</td>\n",
       "      <td>Q SCIENCE</td>\n",
       "    </tr>\n",
       "    <tr>\n",
       "      <th>4</th>\n",
       "      <td>ALEXANDER DICKY K. N , 1218011008</td>\n",
       "      <td>PERBANDINGAN EFEK PEMBERIAN EKSTRAK TEMULAWAK_...</td>\n",
       "      <td>Q SCIENCE</td>\n",
       "    </tr>\n",
       "  </tbody>\n",
       "</table>\n",
       "</div>"
      ],
      "text/plain": [
       "                                    Nama  \\\n",
       "0  AGUSTIN MAULIYA SAFITRI  , 1417021005   \n",
       "1             SAIFUL ANWAR  , 1417051129   \n",
       "2    AFRISA HERNI  PUTRI  , (1217021002)   \n",
       "3       AGNES MALUDFI PUTRI,  1217031004   \n",
       "4      ALEXANDER DICKY K. N , 1218011008   \n",
       "\n",
       "                                               Judul    Subject  \n",
       "0  STUDI PENINGKATAN IMUNOSTIMULAN DARI KOMBINASI...  Q SCIENCE  \n",
       "1  PENERAPAN DJANGO REST FRAMEWORK DAN TEKNOLOGI_...  Q SCIENCE  \n",
       "2  UJI EFEKTIVITAS EKSTRAK RIMPANG RUMPUT TEKI (C...  Q SCIENCE  \n",
       "3  ANALISIS TEORI ANTRIAN MULTI-CHANNEL DENGAN DI...  Q SCIENCE  \n",
       "4  PERBANDINGAN EFEK PEMBERIAN EKSTRAK TEMULAWAK_...  Q SCIENCE  "
      ]
     },
     "execution_count": 3,
     "metadata": {},
     "output_type": "execute_result"
    }
   ],
   "source": [
    "data.head(5)"
   ]
  },
  {
   "cell_type": "code",
   "execution_count": 4,
   "metadata": {},
   "outputs": [
    {
     "name": "stdout",
     "output_type": "stream",
     "text": [
      "17180\n"
     ]
    }
   ],
   "source": [
    "print (len(data['Judul']))"
   ]
  },
  {
   "cell_type": "code",
   "execution_count": 5,
   "metadata": {},
   "outputs": [
    {
     "data": {
      "text/plain": [
       "array(['Q SCIENCE', 'TEKNOLOGI', 'PERTANIAN', 'PENGOBATAN',\n",
       "       'LANGUAGE AND LITERATURE', 'FINE ARTS', 'MUSIC AND BOOKS ON MUSIC',\n",
       "       'L EDUCATION', 'POLITICAL SCIENCE'], dtype=object)"
      ]
     },
     "execution_count": 5,
     "metadata": {},
     "output_type": "execute_result"
    }
   ],
   "source": [
    "#ngasih tahu kalau df subject itu unik \n",
    "data['Subject'].unique()"
   ]
  },
  {
   "cell_type": "code",
   "execution_count": 6,
   "metadata": {},
   "outputs": [],
   "source": [
    "le = LabelEncoder()#manggil fungsinya\n",
    "le.fit(list(data['Subject'].values))#ngambil value kolom subject \n",
    "data['Subject'] = le.transform(list(data['Subject']))#ngerubah isi kolom subject ke int"
   ]
  },
  {
   "cell_type": "code",
   "execution_count": 7,
   "metadata": {},
   "outputs": [
    {
     "data": {
      "text/plain": [
       "array([7, 8, 5, 4, 2, 0, 3, 1, 6])"
      ]
     },
     "execution_count": 7,
     "metadata": {},
     "output_type": "execute_result"
    }
   ],
   "source": [
    "data['Subject'].unique()"
   ]
  },
  {
   "cell_type": "code",
   "execution_count": 3,
   "metadata": {},
   "outputs": [
    {
     "data": {
      "text/plain": [
       "0        studi peningkatan imunostimulan dari kombinasi...\n",
       "1        penerapan django rest framework dan teknologi_...\n",
       "2        uji efektivitas ekstrak rimpang rumput teki (c...\n",
       "3        analisis teori antrian multi-channel dengan di...\n",
       "4        perbandingan efek pemberian ekstrak temulawak_...\n",
       "                               ...                        \n",
       "17175    asean tourism strategic plan (atsp) 2016-2025 ...\n",
       "17176    kepentingan australia mengaktifkan kembali per...\n",
       "17177    kebijakan luar negeri indonesia dalam mengatas...\n",
       "17178    globalisasi nilai-nilai posfeminisme dan_x000d...\n",
       "17179    respon meksiko dalam menghadapi perubahan ling...\n",
       "Name: Judul, Length: 17180, dtype: object"
      ]
     },
     "execution_count": 3,
     "metadata": {},
     "output_type": "execute_result"
    }
   ],
   "source": [
    "data['Judul']=data['Judul'].apply(lambda i:i.lower())\n",
    "data['Judul']"
   ]
  },
  {
   "cell_type": "code",
   "execution_count": 4,
   "metadata": {},
   "outputs": [
    {
     "data": {
      "text/plain": [
       "0        [studi, peningkatan, imunostimulan, dari, komb...\n",
       "1        [penerapan, django, rest, framework, dan, tekn...\n",
       "2        [uji, efektivitas, ekstrak, rimpang, rumput, t...\n",
       "3        [analisis, teori, antrian, multi-channel, deng...\n",
       "4        [perbandingan, efek, pemberian, ekstrak, temul...\n",
       "                               ...                        \n",
       "17175    [asean, tourism, strategic, plan, (atsp), 2016...\n",
       "17176    [kepentingan, australia, mengaktifkan, kembali...\n",
       "17177    [kebijakan, luar, negeri, indonesia, dalam, me...\n",
       "17178    [globalisasi, nilai-nilai, posfeminisme, dan_x...\n",
       "17179    [respon, meksiko, dalam, menghadapi, perubahan...\n",
       "Name: Judul, Length: 17180, dtype: object"
      ]
     },
     "execution_count": 4,
     "metadata": {},
     "output_type": "execute_result"
    }
   ],
   "source": [
    "data['Judul'].str.split() #tempat nyeplit"
   ]
  },
  {
   "cell_type": "code",
   "execution_count": 5,
   "metadata": {},
   "outputs": [],
   "source": [
    "token=data['Judul'].str.split() #deklarasiin tempat hasil split jadi token"
   ]
  },
  {
   "cell_type": "code",
   "execution_count": 6,
   "metadata": {},
   "outputs": [
    {
     "name": "stdout",
     "output_type": "stream",
     "text": [
      "758\n"
     ]
    },
    {
     "data": {
      "text/plain": [
       "['ada', 'adalah', 'adanya', 'adapun', 'agak']"
      ]
     },
     "execution_count": 6,
     "metadata": {},
     "output_type": "execute_result"
    }
   ],
   "source": [
    "#tempat ngasih tahu kalau ini stopwords-nya\n",
    "stop = list(stopwords.words('indonesian'))\n",
    "print(len(stop))\n",
    "stop[:5]"
   ]
  },
  {
   "cell_type": "code",
   "execution_count": 7,
   "metadata": {},
   "outputs": [],
   "source": [
    "def rubah(data):\n",
    "    token=data.split()#nunjukin data pada df pas displit\n",
    "    a = ' '.join([word for word in token if (word  not in stop)&(word.isalpha())])#isalpha supaya gak ribet jadi satu df aplhabet semua yang dipake\n",
    "    return a"
   ]
  },
  {
   "cell_type": "code",
   "execution_count": 8,
   "metadata": {},
   "outputs": [
    {
     "data": {
      "text/plain": [
       "'uji efektivitas ekstrak rimpang rumput teki rotundus obat imodium antidiare mencit musculus jantan diinduksi oleum'"
      ]
     },
     "execution_count": 8,
     "metadata": {},
     "output_type": "execute_result"
    }
   ],
   "source": [
    "t = data['Judul'].apply(rubah)\n",
    "#print(type(t))\n",
    "t.loc[2]"
   ]
  },
  {
   "cell_type": "code",
   "execution_count": 1,
   "metadata": {},
   "outputs": [
    {
     "ename": "NameError",
     "evalue": "name 'TfidfVectorizer' is not defined",
     "output_type": "error",
     "traceback": [
      "\u001b[1;31m---------------------------------------------------------------------------\u001b[0m",
      "\u001b[1;31mNameError\u001b[0m                                 Traceback (most recent call last)",
      "Input \u001b[1;32mIn [1]\u001b[0m, in \u001b[0;36m<cell line: 1>\u001b[1;34m()\u001b[0m\n\u001b[1;32m----> 1\u001b[0m vectorizer \u001b[38;5;241m=\u001b[39m \u001b[43mTfidfVectorizer\u001b[49m()\n\u001b[0;32m      2\u001b[0m vectors \u001b[38;5;241m=\u001b[39m vectorizer\u001b[38;5;241m.\u001b[39mfit_transform(data[\u001b[38;5;124m'\u001b[39m\u001b[38;5;124mJudul\u001b[39m\u001b[38;5;124m'\u001b[39m])\u001b[38;5;66;03m#merubah text jadi numerik dari df judul\u001b[39;00m\n\u001b[0;32m      3\u001b[0m \u001b[38;5;28mprint\u001b[39m(vectorizer\u001b[38;5;241m.\u001b[39mvocabulary_)\u001b[38;5;66;03m#untuk menampilkan hasil dari transform dalam bentuk dictionary\u001b[39;00m\n",
      "\u001b[1;31mNameError\u001b[0m: name 'TfidfVectorizer' is not defined"
     ]
    }
   ],
   "source": [
    "vectorizer = TfidfVectorizer()\n",
    "vectors = vectorizer.fit_transform(data['Judul'])#merubah text jadi numerik dari df judul\n",
    "print(vectorizer.vocabulary_)#untuk menampilkan hasil dari transform dalam bentuk dictionary\n",
    "print(type(vectors))\n",
    "vectors.shape"
   ]
  },
  {
   "cell_type": "code",
   "execution_count": 133,
   "metadata": {},
   "outputs": [],
   "source": [
    "X_train, X_test, y_train, y_test = train_test_split(vectors, data['Subject'], test_size=0.2)"
   ]
  },
  {
   "cell_type": "code",
   "execution_count": 95,
   "metadata": {},
   "outputs": [
    {
     "name": "stdout",
     "output_type": "stream",
     "text": [
      "(13744, 18902) (13744,) (3436, 18902) (3436,)\n"
     ]
    }
   ],
   "source": [
    "print (X_train.shape, y_train.shape, X_test.shape, y_test.shape)"
   ]
  },
  {
   "cell_type": "markdown",
   "metadata": {},
   "source": [
    "## Logistic Regression"
   ]
  },
  {
   "cell_type": "code",
   "execution_count": 134,
   "metadata": {},
   "outputs": [
    {
     "name": "stdout",
     "output_type": "stream",
     "text": [
      "0.4870044991601596\n",
      "0.719441210710128\n"
     ]
    }
   ],
   "source": [
    "clf = LogisticRegression(solver='lbfgs', max_iter=1000,random_state=0)#lbfgs = Limited-memory Broyden–Fletcher–Goldfarb–Shanno Algorithm. iter(iteration) defaultnya 100, random_state defaultnya none = 0\n",
    "clf.fit(X_train, y_train) #clf clasification\n",
    "pred = clf.predict(X_test)\n",
    "print (metrics.f1_score(y_test, pred, average='macro'))\n",
    "print (metrics.accuracy_score(y_test, pred))"
   ]
  },
  {
   "cell_type": "code",
   "execution_count": 135,
   "metadata": {},
   "outputs": [
    {
     "name": "stdout",
     "output_type": "stream",
     "text": [
      "(1, 18902)\n",
      "[6]\n"
     ]
    }
   ],
   "source": [
    "text = ['EFEKTIVITAS PROGRAM BANDAR LAMPUNG MAKMUR DAN BERKEADILAN BAZNAS DALAM MENINGKATKAN KESEJAHTERAAN MASYARAKAT DI KOTA BANDAR LAMPUNG STUDY KASUS PADA KOTA BANDAR LAMPUNG']\n",
    "s = (vectorizer.transform(text))\n",
    "print (s.shape)\n",
    "d = (clf.predict(s))\n",
    "print (d)"
   ]
  },
  {
   "cell_type": "code",
   "execution_count": 137,
   "metadata": {},
   "outputs": [
    {
     "data": {
      "text/plain": [
       "'POLITICAL SCIENCE'"
      ]
     },
     "execution_count": 137,
     "metadata": {},
     "output_type": "execute_result"
    }
   ],
   "source": [
    "le.inverse_transform(d)[0]"
   ]
  },
  {
   "cell_type": "markdown",
   "metadata": {},
   "source": [
    "# Gaussian NB"
   ]
  },
  {
   "cell_type": "code",
   "execution_count": 36,
   "metadata": {},
   "outputs": [
    {
     "name": "stdout",
     "output_type": "stream",
     "text": [
      "0.40899597333102133\n",
      "0.7255529685681025\n"
     ]
    }
   ],
   "source": [
    "clf = MultinomialNB(alpha=1.0) #default alpha 1.0\n",
    "clf.fit(X_train, y_train)\n",
    "pred = clf.predict(X_test)\n",
    "print (metrics.f1_score(y_test, pred, average='macro')) #f1 untuk ngukur antara precision dan recall, keseimbangan antara keduanya defaultnya 1 sama kayak akurasi\n",
    "#average macro ini karena macro mengukur tiap label, kebetulan setiap judul yang dipakai dan ini make score f1 makanya macro cocok, bisa make weighted tapi f1 jadi gak guna\n",
    "print (metrics.accuracy_score(y_test, pred))"
   ]
  },
  {
   "cell_type": "code",
   "execution_count": 34,
   "metadata": {},
   "outputs": [
    {
     "name": "stdout",
     "output_type": "stream",
     "text": [
      "(1, 18902)\n",
      "[1]\n"
     ]
    }
   ],
   "source": [
    "text = ['EFEKTIVITAS PROGRAM BANDAR LAMPUNG MAKMUR DAN BERKEADILAN BAZNAS DALAM MENINGKATKAN KESEJAHTERAAN MASYARAKAT DI KOTA BANDAR LAMPUNG STUDY KASUS PADA KOTA BANDAR LAMPUNG']\n",
    "#text[0] = text[0].lower()\n",
    "s = (vectorizer.transform(text))\n",
    "print (s.shape)\n",
    "d = (clf.predict(s))\n",
    "print (d)"
   ]
  },
  {
   "cell_type": "code",
   "execution_count": 35,
   "metadata": {},
   "outputs": [
    {
     "data": {
      "text/plain": [
       "'L EDUCATION'"
      ]
     },
     "execution_count": 35,
     "metadata": {},
     "output_type": "execute_result"
    }
   ],
   "source": [
    "le.inverse_transform(d)[0]"
   ]
  },
  {
   "cell_type": "markdown",
   "metadata": {},
   "source": [
    "# Random Forest"
   ]
  },
  {
   "cell_type": "code",
   "execution_count": 23,
   "metadata": {},
   "outputs": [
    {
     "name": "stdout",
     "output_type": "stream",
     "text": [
      "0.4445927169173269\n",
      "0.6507566938300349\n"
     ]
    }
   ],
   "source": [
    "clf = RandomForestClassifier(max_depth=None, random_state=0)\n",
    "clf.fit(X_train, y_train) #clf clasification\n",
    "pred = clf.predict(X_test)\n",
    "print (metrics.f1_score(y_test, pred, average='macro'))\n",
    "print (metrics.accuracy_score(y_test, pred))"
   ]
  },
  {
   "cell_type": "code",
   "execution_count": 24,
   "metadata": {},
   "outputs": [
    {
     "name": "stdout",
     "output_type": "stream",
     "text": [
      "(1, 18902)\n",
      "[1]\n"
     ]
    }
   ],
   "source": [
    "text = ['EFEKTIVITAS PROGRAM BANDAR LAMPUNG MAKMUR DAN BERKEADILAN BAZNAS DALAM MENINGKATKAN KESEJAHTERAAN MASYARAKAT DI KOTA BANDAR LAMPUNG STUDY KASUS PADA KOTA BANDAR LAMPUNG']\n",
    "#text[0] = text[0].lower()\n",
    "s = (vectorizer.transform(text))\n",
    "print (s.shape)\n",
    "d = (clf.predict(s))\n",
    "print (d)"
   ]
  },
  {
   "cell_type": "code",
   "execution_count": 25,
   "metadata": {},
   "outputs": [
    {
     "data": {
      "text/plain": [
       "'L EDUCATION'"
      ]
     },
     "execution_count": 25,
     "metadata": {},
     "output_type": "execute_result"
    }
   ],
   "source": [
    "le.inverse_transform(d)[0]"
   ]
  },
  {
   "cell_type": "markdown",
   "metadata": {},
   "source": [
    "# ROC AUC"
   ]
  },
  {
   "cell_type": "code",
   "execution_count": 26,
   "metadata": {},
   "outputs": [
    {
     "name": "stdout",
     "output_type": "stream",
     "text": [
      "0.9383188845602315\n"
     ]
    }
   ],
   "source": [
    "clf = LogisticRegression(solver='lbfgs', max_iter=1000).fit(X_train, y_train)\n",
    "preds = clf.predict_proba(X_test)\n",
    "roc_auc = roc_auc_score(y_test,preds, multi_class='ovr')\n",
    "print(roc_auc)"
   ]
  },
  {
   "cell_type": "code",
   "execution_count": 27,
   "metadata": {},
   "outputs": [
    {
     "name": "stdout",
     "output_type": "stream",
     "text": [
      "0.8895450308193994\n"
     ]
    }
   ],
   "source": [
    "clf = RandomForestClassifier(max_depth=None, random_state=0).fit(X_train, y_train)\n",
    "preds = clf.predict_proba(X_test)\n",
    "roc_auc = roc_auc_score(y_test,preds, multi_class='ovr')\n",
    "print(roc_auc)"
   ]
  },
  {
   "cell_type": "code",
   "execution_count": 28,
   "metadata": {},
   "outputs": [
    {
     "name": "stdout",
     "output_type": "stream",
     "text": [
      "0.8588607906717729\n"
     ]
    }
   ],
   "source": [
    "clf = MultinomialNB(alpha=1.0).fit(X_train, y_train)\n",
    "preds = clf.predict_proba(X_test)\n",
    "roc_auc = roc_auc_score(y_test,preds, multi_class='ovr')\n",
    "print(roc_auc)"
   ]
  },
  {
   "cell_type": "markdown",
   "metadata": {},
   "source": [
    "# Saving model"
   ]
  },
  {
   "cell_type": "code",
   "execution_count": 29,
   "metadata": {},
   "outputs": [
    {
     "name": "stdout",
     "output_type": "stream",
     "text": [
      "Model saved\n"
     ]
    }
   ],
   "source": [
    "filename = 'best.pkl'\n",
    "joblib.dump(clf, filename)\n",
    "print (\"Model saved\")"
   ]
  },
  {
   "cell_type": "code",
   "execution_count": 30,
   "metadata": {},
   "outputs": [],
   "source": [
    "clf = joblib.load('best.pkl')"
   ]
  },
  {
   "cell_type": "code",
   "execution_count": 31,
   "metadata": {},
   "outputs": [
    {
     "data": {
      "text/plain": [
       "MultinomialNB()"
      ]
     },
     "execution_count": 31,
     "metadata": {},
     "output_type": "execute_result"
    }
   ],
   "source": [
    "clf"
   ]
  },
  {
   "cell_type": "code",
   "execution_count": 32,
   "metadata": {},
   "outputs": [
    {
     "name": "stdout",
     "output_type": "stream",
     "text": [
      "0.7255529685681025\n"
     ]
    }
   ],
   "source": [
    "loaded_model = joblib.load(filename)\n",
    "result = loaded_model.score(X_test, y_test)\n",
    "print(result)"
   ]
  },
  {
   "cell_type": "code",
   "execution_count": null,
   "metadata": {},
   "outputs": [],
   "source": []
  }
 ],
 "metadata": {
  "kernelspec": {
   "display_name": "Python 3 (ipykernel)",
   "language": "python",
   "name": "python3"
  },
  "language_info": {
   "codemirror_mode": {
    "name": "ipython",
    "version": 3
   },
   "file_extension": ".py",
   "mimetype": "text/x-python",
   "name": "python",
   "nbconvert_exporter": "python",
   "pygments_lexer": "ipython3",
   "version": "3.9.11"
  }
 },
 "nbformat": 4,
 "nbformat_minor": 2
}
